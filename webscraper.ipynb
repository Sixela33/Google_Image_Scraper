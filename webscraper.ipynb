{
 "cells": [
  {
   "cell_type": "markdown",
   "metadata": {},
   "source": [
    "## Importing functions from other files"
   ]
  },
  {
   "cell_type": "code",
   "execution_count": null,
   "metadata": {},
   "outputs": [],
   "source": [
    "from selenium import webdriver\n",
    "from Image_classifier import image_classifier\n",
    "from Image_downloader import download_image, get_images_from_google"
   ]
  },
  {
   "cell_type": "markdown",
   "metadata": {},
   "source": [
    "## Scraping and Downloading images from google"
   ]
  },
  {
   "cell_type": "code",
   "execution_count": null,
   "metadata": {},
   "outputs": [],
   "source": [
    "DRIVER_PATH = '' # The location of your updated Google chrome driver path (needed to control the browser)\n",
    "wd = webdriver.Chrome(DRIVER_PATH)\n",
    "search_url = \"\" # The Google images link you want to use\n",
    "ammount_of_images = 10 # How many images you want\n",
    "\n",
    "# Scraping and downloading\n",
    "urls = get_images_from_google(wd, 1, ammount_of_images, search_url)\n",
    "\n",
    "for i, url in enumerate(urls):\n",
    "\tdownload_image(\"imgs/\", url, str(i) + \".jpg\")\n",
    "\n",
    "wd.quit()"
   ]
  },
  {
   "cell_type": "markdown",
   "metadata": {},
   "source": [
    "## Classification engine"
   ]
  },
  {
   "cell_type": "code",
   "execution_count": null,
   "metadata": {},
   "outputs": [],
   "source": [
    "# Function that goes through all images and lets the user label them.\n",
    "# Controls: a = label as 0\n",
    "#           d = label as 1\n",
    "#           w = discard image (Deletes it from fileSystem)\n",
    "#           q = saves the labels in a CSV file and quits\n",
    "image_classifier('C:\\Users\\Alexis\\Desktop\\Data Science\\Webscraping\\imgs')"
   ]
  }
 ],
 "metadata": {
  "kernelspec": {
   "display_name": "Python 3.9.12 ('base')",
   "language": "python",
   "name": "python3"
  },
  "language_info": {
   "codemirror_mode": {
    "name": "ipython",
    "version": 3
   },
   "file_extension": ".py",
   "mimetype": "text/x-python",
   "name": "python",
   "nbconvert_exporter": "python",
   "pygments_lexer": "ipython3",
   "version": "3.9.12"
  },
  "orig_nbformat": 4,
  "vscode": {
   "interpreter": {
    "hash": "47918c48fc2ad4a98a57674f8e5b4a3803200f93c3897dc52f14a2f8f2d52b8d"
   }
  }
 },
 "nbformat": 4,
 "nbformat_minor": 2
}
